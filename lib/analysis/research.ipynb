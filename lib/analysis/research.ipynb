{
 "cells": [
  {
   "cell_type": "code",
   "execution_count": 42,
   "metadata": {
    "collapsed": true
   },
   "outputs": [],
   "source": [
    "import pandas as pd"
   ]
  },
  {
   "cell_type": "code",
   "execution_count": 235,
   "outputs": [],
   "source": [
    "# file = '/Users/test/Works/dirsearch/reports/_127.0.0.1_18000/features.csv'\n",
    "# file = '/Users/test/Works/dirsearch/reports/https_192.168.0.64/features.csv'\n",
    "file = '/Users/test/Works/dirsearch/reports/_127.0.0.1_8001/features.csv'\n",
    "df = pd.read_csv(file)"
   ],
   "metadata": {
    "collapsed": false,
    "pycharm": {
     "name": "#%%\n"
    }
   }
  },
  {
   "cell_type": "code",
   "execution_count": 236,
   "outputs": [
    {
     "data": {
      "text/plain": "       status_code  body_length  standard_body_length  c:<  c:>  c:</  c:/>  \\\n0              200           36                    33    0    0     0     0   \n1              200           40                    35    0    0     0     0   \n2              200           38                    35    0    0     0     0   \n3              200           46                    35    0    0     0     0   \n4              200           44                    35    0    0     0     0   \n...            ...          ...                   ...  ...  ...   ...   ...   \n11369          200           42                    35    0    0     0     0   \n11370          200           41                    35    0    0     0     0   \n11371          200           40                    35    0    0     0     0   \n11372          200           40                    35    0    0     0     0   \n11373          200           40                    35    0    0     0     0   \n\n       c:=/  c:[  c:]  ...  c:}  c::  c:\"  c:,  c:=  c:(  c:)  c:;  \\\n0         0    0    0  ...    1    2    6    1    0    0    0    0   \n1         0    0    0  ...    1    2    6    1    0    0    0    0   \n2         0    0    0  ...    1    2    6    1    0    0    0    0   \n3         0    0    0  ...    1    2    6    1    0    0    0    0   \n4         0    0    0  ...    1    2    6    1    0    0    0    0   \n...     ...  ...  ...  ...  ...  ...  ...  ...  ...  ...  ...  ...   \n11369     0    0    0  ...    1    2    6    1    0    0    0    0   \n11370     0    0    0  ...    1    2    6    1    0    0    0    0   \n11371     0    0    0  ...    1    2    6    1    0    0    0    0   \n11372     0    0    0  ...    1    2    6    1    0    0    0    0   \n11373     0    0    0  ...    1    2    6    1    0    0    0    0   \n\n                                    url exists  \n0            http://127.0.0.1:8001/%3f/      0  \n1            http://127.0.0.1:8001/html      0  \n2              http://127.0.0.1:8001/js      0  \n3      http://127.0.0.1:8001/!.htpasswd      0  \n4        http://127.0.0.1:8001/html.old      0  \n...                                 ...    ...  \n11369      http://127.0.0.1:8001/~user5      0  \n11370       http://127.0.0.1:8001/~uucp      0  \n11371        http://127.0.0.1:8001/~web      0  \n11372        http://127.0.0.1:8001/~xfs      0  \n11373        http://127.0.0.1:8001/~www      0  \n\n[11374 rows x 21 columns]",
      "text/html": "<div>\n<style scoped>\n    .dataframe tbody tr th:only-of-type {\n        vertical-align: middle;\n    }\n\n    .dataframe tbody tr th {\n        vertical-align: top;\n    }\n\n    .dataframe thead th {\n        text-align: right;\n    }\n</style>\n<table border=\"1\" class=\"dataframe\">\n  <thead>\n    <tr style=\"text-align: right;\">\n      <th></th>\n      <th>status_code</th>\n      <th>body_length</th>\n      <th>standard_body_length</th>\n      <th>c:&lt;</th>\n      <th>c:&gt;</th>\n      <th>c:&lt;/</th>\n      <th>c:/&gt;</th>\n      <th>c:=/</th>\n      <th>c:[</th>\n      <th>c:]</th>\n      <th>...</th>\n      <th>c:}</th>\n      <th>c::</th>\n      <th>c:\"</th>\n      <th>c:,</th>\n      <th>c:=</th>\n      <th>c:(</th>\n      <th>c:)</th>\n      <th>c:;</th>\n      <th>url</th>\n      <th>exists</th>\n    </tr>\n  </thead>\n  <tbody>\n    <tr>\n      <th>0</th>\n      <td>200</td>\n      <td>36</td>\n      <td>33</td>\n      <td>0</td>\n      <td>0</td>\n      <td>0</td>\n      <td>0</td>\n      <td>0</td>\n      <td>0</td>\n      <td>0</td>\n      <td>...</td>\n      <td>1</td>\n      <td>2</td>\n      <td>6</td>\n      <td>1</td>\n      <td>0</td>\n      <td>0</td>\n      <td>0</td>\n      <td>0</td>\n      <td>http://127.0.0.1:8001/%3f/</td>\n      <td>0</td>\n    </tr>\n    <tr>\n      <th>1</th>\n      <td>200</td>\n      <td>40</td>\n      <td>35</td>\n      <td>0</td>\n      <td>0</td>\n      <td>0</td>\n      <td>0</td>\n      <td>0</td>\n      <td>0</td>\n      <td>0</td>\n      <td>...</td>\n      <td>1</td>\n      <td>2</td>\n      <td>6</td>\n      <td>1</td>\n      <td>0</td>\n      <td>0</td>\n      <td>0</td>\n      <td>0</td>\n      <td>http://127.0.0.1:8001/html</td>\n      <td>0</td>\n    </tr>\n    <tr>\n      <th>2</th>\n      <td>200</td>\n      <td>38</td>\n      <td>35</td>\n      <td>0</td>\n      <td>0</td>\n      <td>0</td>\n      <td>0</td>\n      <td>0</td>\n      <td>0</td>\n      <td>0</td>\n      <td>...</td>\n      <td>1</td>\n      <td>2</td>\n      <td>6</td>\n      <td>1</td>\n      <td>0</td>\n      <td>0</td>\n      <td>0</td>\n      <td>0</td>\n      <td>http://127.0.0.1:8001/js</td>\n      <td>0</td>\n    </tr>\n    <tr>\n      <th>3</th>\n      <td>200</td>\n      <td>46</td>\n      <td>35</td>\n      <td>0</td>\n      <td>0</td>\n      <td>0</td>\n      <td>0</td>\n      <td>0</td>\n      <td>0</td>\n      <td>0</td>\n      <td>...</td>\n      <td>1</td>\n      <td>2</td>\n      <td>6</td>\n      <td>1</td>\n      <td>0</td>\n      <td>0</td>\n      <td>0</td>\n      <td>0</td>\n      <td>http://127.0.0.1:8001/!.htpasswd</td>\n      <td>0</td>\n    </tr>\n    <tr>\n      <th>4</th>\n      <td>200</td>\n      <td>44</td>\n      <td>35</td>\n      <td>0</td>\n      <td>0</td>\n      <td>0</td>\n      <td>0</td>\n      <td>0</td>\n      <td>0</td>\n      <td>0</td>\n      <td>...</td>\n      <td>1</td>\n      <td>2</td>\n      <td>6</td>\n      <td>1</td>\n      <td>0</td>\n      <td>0</td>\n      <td>0</td>\n      <td>0</td>\n      <td>http://127.0.0.1:8001/html.old</td>\n      <td>0</td>\n    </tr>\n    <tr>\n      <th>...</th>\n      <td>...</td>\n      <td>...</td>\n      <td>...</td>\n      <td>...</td>\n      <td>...</td>\n      <td>...</td>\n      <td>...</td>\n      <td>...</td>\n      <td>...</td>\n      <td>...</td>\n      <td>...</td>\n      <td>...</td>\n      <td>...</td>\n      <td>...</td>\n      <td>...</td>\n      <td>...</td>\n      <td>...</td>\n      <td>...</td>\n      <td>...</td>\n      <td>...</td>\n      <td>...</td>\n    </tr>\n    <tr>\n      <th>11369</th>\n      <td>200</td>\n      <td>42</td>\n      <td>35</td>\n      <td>0</td>\n      <td>0</td>\n      <td>0</td>\n      <td>0</td>\n      <td>0</td>\n      <td>0</td>\n      <td>0</td>\n      <td>...</td>\n      <td>1</td>\n      <td>2</td>\n      <td>6</td>\n      <td>1</td>\n      <td>0</td>\n      <td>0</td>\n      <td>0</td>\n      <td>0</td>\n      <td>http://127.0.0.1:8001/~user5</td>\n      <td>0</td>\n    </tr>\n    <tr>\n      <th>11370</th>\n      <td>200</td>\n      <td>41</td>\n      <td>35</td>\n      <td>0</td>\n      <td>0</td>\n      <td>0</td>\n      <td>0</td>\n      <td>0</td>\n      <td>0</td>\n      <td>0</td>\n      <td>...</td>\n      <td>1</td>\n      <td>2</td>\n      <td>6</td>\n      <td>1</td>\n      <td>0</td>\n      <td>0</td>\n      <td>0</td>\n      <td>0</td>\n      <td>http://127.0.0.1:8001/~uucp</td>\n      <td>0</td>\n    </tr>\n    <tr>\n      <th>11371</th>\n      <td>200</td>\n      <td>40</td>\n      <td>35</td>\n      <td>0</td>\n      <td>0</td>\n      <td>0</td>\n      <td>0</td>\n      <td>0</td>\n      <td>0</td>\n      <td>0</td>\n      <td>...</td>\n      <td>1</td>\n      <td>2</td>\n      <td>6</td>\n      <td>1</td>\n      <td>0</td>\n      <td>0</td>\n      <td>0</td>\n      <td>0</td>\n      <td>http://127.0.0.1:8001/~web</td>\n      <td>0</td>\n    </tr>\n    <tr>\n      <th>11372</th>\n      <td>200</td>\n      <td>40</td>\n      <td>35</td>\n      <td>0</td>\n      <td>0</td>\n      <td>0</td>\n      <td>0</td>\n      <td>0</td>\n      <td>0</td>\n      <td>0</td>\n      <td>...</td>\n      <td>1</td>\n      <td>2</td>\n      <td>6</td>\n      <td>1</td>\n      <td>0</td>\n      <td>0</td>\n      <td>0</td>\n      <td>0</td>\n      <td>http://127.0.0.1:8001/~xfs</td>\n      <td>0</td>\n    </tr>\n    <tr>\n      <th>11373</th>\n      <td>200</td>\n      <td>40</td>\n      <td>35</td>\n      <td>0</td>\n      <td>0</td>\n      <td>0</td>\n      <td>0</td>\n      <td>0</td>\n      <td>0</td>\n      <td>0</td>\n      <td>...</td>\n      <td>1</td>\n      <td>2</td>\n      <td>6</td>\n      <td>1</td>\n      <td>0</td>\n      <td>0</td>\n      <td>0</td>\n      <td>0</td>\n      <td>http://127.0.0.1:8001/~www</td>\n      <td>0</td>\n    </tr>\n  </tbody>\n</table>\n<p>11374 rows × 21 columns</p>\n</div>"
     },
     "execution_count": 236,
     "metadata": {},
     "output_type": "execute_result"
    }
   ],
   "source": [
    "df"
   ],
   "metadata": {
    "collapsed": false,
    "pycharm": {
     "name": "#%%\n"
    }
   }
  },
  {
   "cell_type": "code",
   "execution_count": 241,
   "outputs": [
    {
     "data": {
      "text/plain": "       status_code  body_length  standard_body_length  c:<  c:>  c:</  c:/>  \\\n3              200           46                    35    0    0     0     0   \n53             200           58                    35    0    0     0     0   \n613            200           49                    35    0    0     0     0   \n614            200           45                    35    0    0     0     0   \n615            200           49                    35    0    0     0     0   \n616            200           49                    35    0    0     0     0   \n617            200           46                    35    0    0     0     0   \n618            200           50                    35    0    0     0     0   \n620            200           46                    35    0    0     0     0   \n919            200           43                    35    0    0     0     0   \n1369           200           46                    35    0    0     0     0   \n1390           200           46                    35    0    0     0     0   \n1649           200           85                    46    0    0     0     0   \n1651           200           46                    35    0    0     0     0   \n2336           200           48                    35    0    0     0     0   \n3777           200           53                    35    0    0     0     0   \n3791           200           51                    35    0    0     0     0   \n4171           200           51                    35    0    0     0     0   \n4586           200           66                    35    0    0     0     0   \n5819           200           46                    35    0    0     0     0   \n6447           200           48                    35    0    0     0     0   \n6449           200           44                    35    0    0     0     0   \n6450           200           45                    35    0    0     0     0   \n6451           200           57                    35    0    0     0     0   \n6863           200          126                    35    0    0     0     0   \n6878           200          119                    35    0    0     0     0   \n7449           200           49                    35    0    0     0     0   \n7984           200           48                    35    0    0     0     0   \n8159           200           42                    35    0    0     0     0   \n8160           200           50                    35    0    0     0     0   \n8162           200           46                    35    0    0     0     0   \n8163           200           43                    35    0    0     0     0   \n8176           200           46                    35    0    0     0     0   \n10210          200           56                    35    0    0     0     0   \n10763          200           68                    35    0    0     0     0   \n11242          200           55                    35    0    0     0     0   \n\n       c:=/  c:[  c:]  ...  c:}  c::  c:\"  c:,  c:=  c:(  c:)  c:;  \\\n3         0    0    0  ...    1    2    6    1    0    0    0    0   \n53        0    0    0  ...    1    2    6    1    0    0    0    0   \n613       0    0    0  ...    1    2    6    1    0    0    0    0   \n614       0    0    0  ...    1    2    6    1    0    0    0    0   \n615       0    0    0  ...    1    2    6    1    0    0    0    0   \n616       0    0    0  ...    1    2    6    1    0    0    0    0   \n617       0    0    0  ...    1    2    6    1    0    0    0    0   \n618       0    0    0  ...    1    2    6    1    0    0    0    0   \n620       0    0    0  ...    1    2    6    1    0    0    0    0   \n919       0    0    0  ...    1    2    6    1    0    0    0    0   \n1369      0    0    0  ...    1    2    6    1    0    0    0    0   \n1390      0    0    0  ...    1    2    6    1    0    0    0    0   \n1649      0    0    0  ...    1    2    6    1    0    0    0    0   \n1651      0    0    0  ...    1    2    6    1    0    0    0    0   \n2336      0    0    0  ...    1    2    6    1    0    0    0    0   \n3777      0    0    0  ...    1    2    6    1    0    0    0    0   \n3791      0    0    0  ...    1    2    6    1    0    0    0    0   \n4171      0    0    0  ...    1    2    6    1    0    0    0    0   \n4586      0    0    0  ...    1    2    6    1    0    0    0    0   \n5819      0    0    0  ...    1    2    6    1    0    0    0    0   \n6447      0    0    0  ...    1    2    6    1    0    0    0    0   \n6449      0    0    0  ...    1    2    6    1    0    0    0    0   \n6450      0    0    0  ...    1    2    6    1    0    0    0    0   \n6451      0    0    0  ...    1    2    6    1    0    0    0    0   \n6863      0    0    0  ...    1    2    6    1    0    0    0    0   \n6878      0    0    0  ...    1    2    6    1    0    0    0    0   \n7449      0    0    0  ...    1    2    6    1    0    0    0    0   \n7984      0    0    0  ...    1    2    6    1    0    0    0    0   \n8159      0    0    0  ...    1    2    6    1    0    0    0    0   \n8160      0    0    0  ...    1    2    6    1    0    0    0    0   \n8162      0    0    0  ...    1    2    6    1    0    0    0    0   \n8163      0    0    0  ...    1    2    6    1    0    0    0    0   \n8176      0    0    0  ...    1    2    6    1    0    0    0    0   \n10210     0    0    0  ...    1    2    6    1    0    0    0    0   \n10763     0    0    0  ...    1    2    6    1    0    0    0    0   \n11242     0    0    0  ...    1    2    6    1    0    0    0    0   \n\n                                                     url exists  \n3                       http://127.0.0.1:8001/!.htpasswd      0  \n53     http://127.0.0.1:8001/.%2e/%2e%2e/%2e%2e/%2e%2...      0  \n613                  http://127.0.0.1:8001/.htpasswd-old      0  \n614                      http://127.0.0.1:8001/.htpasswd      0  \n615                  http://127.0.0.1:8001/.htpasswd.bak      0  \n616                  http://127.0.0.1:8001/.htpasswd.inc      0  \n617                     http://127.0.0.1:8001/.htpasswd/      0  \n618                 http://127.0.0.1:8001/.htpasswd_test      0  \n620                     http://127.0.0.1:8001/.htpasswds      0  \n919                        http://127.0.0.1:8001/.passwd      0  \n1369                    http://127.0.0.1:8001/0.htpasswd      0  \n1390                    http://127.0.0.1:8001/1.htpasswd      0  \n1649   http://127.0.0.1:8001/\\..\\..\\..\\..\\..\\..\\..\\.....      0  \n1651                    http://127.0.0.1:8001/_.htpasswd      0  \n2336                  http://127.0.0.1:8001/admin.passwd      0  \n3777   http://127.0.0.1:8001/analytics/saw.dll?getPre...      0  \n3791               http://127.0.0.1:8001/aphtpasswd.html      0  \n4171               http://127.0.0.1:8001/backup.htpasswd      0  \n4586   http://127.0.0.1:8001/cgi-bin/.%2e/%2e%2e/%2e%...      0  \n5819                    http://127.0.0.1:8001/etc/passwd      0  \n6447                  http://127.0.0.1:8001/htpasswd.bak      0  \n6449                      http://127.0.0.1:8001/htpasswd      0  \n6450                     http://127.0.0.1:8001/htpasswd/      0  \n6451         http://127.0.0.1:8001/htpasswd/htpasswd.bak      0  \n6863   http://127.0.0.1:8001/jolokia/exec/com.sun.man...      0  \n6878   http://127.0.0.1:8001/jolokia/exec/com.sun.man...      0  \n7449                 http://127.0.0.1:8001/master.passwd      0  \n7984                  http://127.0.0.1:8001/old.htpasswd      0  \n8159                        http://127.0.0.1:8001/passwd      0  \n8160                http://127.0.0.1:8001/passwd.adjunct      0  \n8162                    http://127.0.0.1:8001/passwd.bak      0  \n8163                       http://127.0.0.1:8001/passwd/      0  \n8176                    http://127.0.0.1:8001/passwd.txt      0  \n10210         http://127.0.0.1:8001/text-base/etc/passwd      0  \n10763  http://127.0.0.1:8001/wavemaker/studioService....      0  \n11242          http://127.0.0.1:8001/wwwboard/passwd.txt      0  \n\n[36 rows x 21 columns]",
      "text/html": "<div>\n<style scoped>\n    .dataframe tbody tr th:only-of-type {\n        vertical-align: middle;\n    }\n\n    .dataframe tbody tr th {\n        vertical-align: top;\n    }\n\n    .dataframe thead th {\n        text-align: right;\n    }\n</style>\n<table border=\"1\" class=\"dataframe\">\n  <thead>\n    <tr style=\"text-align: right;\">\n      <th></th>\n      <th>status_code</th>\n      <th>body_length</th>\n      <th>standard_body_length</th>\n      <th>c:&lt;</th>\n      <th>c:&gt;</th>\n      <th>c:&lt;/</th>\n      <th>c:/&gt;</th>\n      <th>c:=/</th>\n      <th>c:[</th>\n      <th>c:]</th>\n      <th>...</th>\n      <th>c:}</th>\n      <th>c::</th>\n      <th>c:\"</th>\n      <th>c:,</th>\n      <th>c:=</th>\n      <th>c:(</th>\n      <th>c:)</th>\n      <th>c:;</th>\n      <th>url</th>\n      <th>exists</th>\n    </tr>\n  </thead>\n  <tbody>\n    <tr>\n      <th>3</th>\n      <td>200</td>\n      <td>46</td>\n      <td>35</td>\n      <td>0</td>\n      <td>0</td>\n      <td>0</td>\n      <td>0</td>\n      <td>0</td>\n      <td>0</td>\n      <td>0</td>\n      <td>...</td>\n      <td>1</td>\n      <td>2</td>\n      <td>6</td>\n      <td>1</td>\n      <td>0</td>\n      <td>0</td>\n      <td>0</td>\n      <td>0</td>\n      <td>http://127.0.0.1:8001/!.htpasswd</td>\n      <td>0</td>\n    </tr>\n    <tr>\n      <th>53</th>\n      <td>200</td>\n      <td>58</td>\n      <td>35</td>\n      <td>0</td>\n      <td>0</td>\n      <td>0</td>\n      <td>0</td>\n      <td>0</td>\n      <td>0</td>\n      <td>0</td>\n      <td>...</td>\n      <td>1</td>\n      <td>2</td>\n      <td>6</td>\n      <td>1</td>\n      <td>0</td>\n      <td>0</td>\n      <td>0</td>\n      <td>0</td>\n      <td>http://127.0.0.1:8001/.%2e/%2e%2e/%2e%2e/%2e%2...</td>\n      <td>0</td>\n    </tr>\n    <tr>\n      <th>613</th>\n      <td>200</td>\n      <td>49</td>\n      <td>35</td>\n      <td>0</td>\n      <td>0</td>\n      <td>0</td>\n      <td>0</td>\n      <td>0</td>\n      <td>0</td>\n      <td>0</td>\n      <td>...</td>\n      <td>1</td>\n      <td>2</td>\n      <td>6</td>\n      <td>1</td>\n      <td>0</td>\n      <td>0</td>\n      <td>0</td>\n      <td>0</td>\n      <td>http://127.0.0.1:8001/.htpasswd-old</td>\n      <td>0</td>\n    </tr>\n    <tr>\n      <th>614</th>\n      <td>200</td>\n      <td>45</td>\n      <td>35</td>\n      <td>0</td>\n      <td>0</td>\n      <td>0</td>\n      <td>0</td>\n      <td>0</td>\n      <td>0</td>\n      <td>0</td>\n      <td>...</td>\n      <td>1</td>\n      <td>2</td>\n      <td>6</td>\n      <td>1</td>\n      <td>0</td>\n      <td>0</td>\n      <td>0</td>\n      <td>0</td>\n      <td>http://127.0.0.1:8001/.htpasswd</td>\n      <td>0</td>\n    </tr>\n    <tr>\n      <th>615</th>\n      <td>200</td>\n      <td>49</td>\n      <td>35</td>\n      <td>0</td>\n      <td>0</td>\n      <td>0</td>\n      <td>0</td>\n      <td>0</td>\n      <td>0</td>\n      <td>0</td>\n      <td>...</td>\n      <td>1</td>\n      <td>2</td>\n      <td>6</td>\n      <td>1</td>\n      <td>0</td>\n      <td>0</td>\n      <td>0</td>\n      <td>0</td>\n      <td>http://127.0.0.1:8001/.htpasswd.bak</td>\n      <td>0</td>\n    </tr>\n    <tr>\n      <th>616</th>\n      <td>200</td>\n      <td>49</td>\n      <td>35</td>\n      <td>0</td>\n      <td>0</td>\n      <td>0</td>\n      <td>0</td>\n      <td>0</td>\n      <td>0</td>\n      <td>0</td>\n      <td>...</td>\n      <td>1</td>\n      <td>2</td>\n      <td>6</td>\n      <td>1</td>\n      <td>0</td>\n      <td>0</td>\n      <td>0</td>\n      <td>0</td>\n      <td>http://127.0.0.1:8001/.htpasswd.inc</td>\n      <td>0</td>\n    </tr>\n    <tr>\n      <th>617</th>\n      <td>200</td>\n      <td>46</td>\n      <td>35</td>\n      <td>0</td>\n      <td>0</td>\n      <td>0</td>\n      <td>0</td>\n      <td>0</td>\n      <td>0</td>\n      <td>0</td>\n      <td>...</td>\n      <td>1</td>\n      <td>2</td>\n      <td>6</td>\n      <td>1</td>\n      <td>0</td>\n      <td>0</td>\n      <td>0</td>\n      <td>0</td>\n      <td>http://127.0.0.1:8001/.htpasswd/</td>\n      <td>0</td>\n    </tr>\n    <tr>\n      <th>618</th>\n      <td>200</td>\n      <td>50</td>\n      <td>35</td>\n      <td>0</td>\n      <td>0</td>\n      <td>0</td>\n      <td>0</td>\n      <td>0</td>\n      <td>0</td>\n      <td>0</td>\n      <td>...</td>\n      <td>1</td>\n      <td>2</td>\n      <td>6</td>\n      <td>1</td>\n      <td>0</td>\n      <td>0</td>\n      <td>0</td>\n      <td>0</td>\n      <td>http://127.0.0.1:8001/.htpasswd_test</td>\n      <td>0</td>\n    </tr>\n    <tr>\n      <th>620</th>\n      <td>200</td>\n      <td>46</td>\n      <td>35</td>\n      <td>0</td>\n      <td>0</td>\n      <td>0</td>\n      <td>0</td>\n      <td>0</td>\n      <td>0</td>\n      <td>0</td>\n      <td>...</td>\n      <td>1</td>\n      <td>2</td>\n      <td>6</td>\n      <td>1</td>\n      <td>0</td>\n      <td>0</td>\n      <td>0</td>\n      <td>0</td>\n      <td>http://127.0.0.1:8001/.htpasswds</td>\n      <td>0</td>\n    </tr>\n    <tr>\n      <th>919</th>\n      <td>200</td>\n      <td>43</td>\n      <td>35</td>\n      <td>0</td>\n      <td>0</td>\n      <td>0</td>\n      <td>0</td>\n      <td>0</td>\n      <td>0</td>\n      <td>0</td>\n      <td>...</td>\n      <td>1</td>\n      <td>2</td>\n      <td>6</td>\n      <td>1</td>\n      <td>0</td>\n      <td>0</td>\n      <td>0</td>\n      <td>0</td>\n      <td>http://127.0.0.1:8001/.passwd</td>\n      <td>0</td>\n    </tr>\n    <tr>\n      <th>1369</th>\n      <td>200</td>\n      <td>46</td>\n      <td>35</td>\n      <td>0</td>\n      <td>0</td>\n      <td>0</td>\n      <td>0</td>\n      <td>0</td>\n      <td>0</td>\n      <td>0</td>\n      <td>...</td>\n      <td>1</td>\n      <td>2</td>\n      <td>6</td>\n      <td>1</td>\n      <td>0</td>\n      <td>0</td>\n      <td>0</td>\n      <td>0</td>\n      <td>http://127.0.0.1:8001/0.htpasswd</td>\n      <td>0</td>\n    </tr>\n    <tr>\n      <th>1390</th>\n      <td>200</td>\n      <td>46</td>\n      <td>35</td>\n      <td>0</td>\n      <td>0</td>\n      <td>0</td>\n      <td>0</td>\n      <td>0</td>\n      <td>0</td>\n      <td>0</td>\n      <td>...</td>\n      <td>1</td>\n      <td>2</td>\n      <td>6</td>\n      <td>1</td>\n      <td>0</td>\n      <td>0</td>\n      <td>0</td>\n      <td>0</td>\n      <td>http://127.0.0.1:8001/1.htpasswd</td>\n      <td>0</td>\n    </tr>\n    <tr>\n      <th>1649</th>\n      <td>200</td>\n      <td>85</td>\n      <td>46</td>\n      <td>0</td>\n      <td>0</td>\n      <td>0</td>\n      <td>0</td>\n      <td>0</td>\n      <td>0</td>\n      <td>0</td>\n      <td>...</td>\n      <td>1</td>\n      <td>2</td>\n      <td>6</td>\n      <td>1</td>\n      <td>0</td>\n      <td>0</td>\n      <td>0</td>\n      <td>0</td>\n      <td>http://127.0.0.1:8001/\\..\\..\\..\\..\\..\\..\\..\\.....</td>\n      <td>0</td>\n    </tr>\n    <tr>\n      <th>1651</th>\n      <td>200</td>\n      <td>46</td>\n      <td>35</td>\n      <td>0</td>\n      <td>0</td>\n      <td>0</td>\n      <td>0</td>\n      <td>0</td>\n      <td>0</td>\n      <td>0</td>\n      <td>...</td>\n      <td>1</td>\n      <td>2</td>\n      <td>6</td>\n      <td>1</td>\n      <td>0</td>\n      <td>0</td>\n      <td>0</td>\n      <td>0</td>\n      <td>http://127.0.0.1:8001/_.htpasswd</td>\n      <td>0</td>\n    </tr>\n    <tr>\n      <th>2336</th>\n      <td>200</td>\n      <td>48</td>\n      <td>35</td>\n      <td>0</td>\n      <td>0</td>\n      <td>0</td>\n      <td>0</td>\n      <td>0</td>\n      <td>0</td>\n      <td>0</td>\n      <td>...</td>\n      <td>1</td>\n      <td>2</td>\n      <td>6</td>\n      <td>1</td>\n      <td>0</td>\n      <td>0</td>\n      <td>0</td>\n      <td>0</td>\n      <td>http://127.0.0.1:8001/admin.passwd</td>\n      <td>0</td>\n    </tr>\n    <tr>\n      <th>3777</th>\n      <td>200</td>\n      <td>53</td>\n      <td>35</td>\n      <td>0</td>\n      <td>0</td>\n      <td>0</td>\n      <td>0</td>\n      <td>0</td>\n      <td>0</td>\n      <td>0</td>\n      <td>...</td>\n      <td>1</td>\n      <td>2</td>\n      <td>6</td>\n      <td>1</td>\n      <td>0</td>\n      <td>0</td>\n      <td>0</td>\n      <td>0</td>\n      <td>http://127.0.0.1:8001/analytics/saw.dll?getPre...</td>\n      <td>0</td>\n    </tr>\n    <tr>\n      <th>3791</th>\n      <td>200</td>\n      <td>51</td>\n      <td>35</td>\n      <td>0</td>\n      <td>0</td>\n      <td>0</td>\n      <td>0</td>\n      <td>0</td>\n      <td>0</td>\n      <td>0</td>\n      <td>...</td>\n      <td>1</td>\n      <td>2</td>\n      <td>6</td>\n      <td>1</td>\n      <td>0</td>\n      <td>0</td>\n      <td>0</td>\n      <td>0</td>\n      <td>http://127.0.0.1:8001/aphtpasswd.html</td>\n      <td>0</td>\n    </tr>\n    <tr>\n      <th>4171</th>\n      <td>200</td>\n      <td>51</td>\n      <td>35</td>\n      <td>0</td>\n      <td>0</td>\n      <td>0</td>\n      <td>0</td>\n      <td>0</td>\n      <td>0</td>\n      <td>0</td>\n      <td>...</td>\n      <td>1</td>\n      <td>2</td>\n      <td>6</td>\n      <td>1</td>\n      <td>0</td>\n      <td>0</td>\n      <td>0</td>\n      <td>0</td>\n      <td>http://127.0.0.1:8001/backup.htpasswd</td>\n      <td>0</td>\n    </tr>\n    <tr>\n      <th>4586</th>\n      <td>200</td>\n      <td>66</td>\n      <td>35</td>\n      <td>0</td>\n      <td>0</td>\n      <td>0</td>\n      <td>0</td>\n      <td>0</td>\n      <td>0</td>\n      <td>0</td>\n      <td>...</td>\n      <td>1</td>\n      <td>2</td>\n      <td>6</td>\n      <td>1</td>\n      <td>0</td>\n      <td>0</td>\n      <td>0</td>\n      <td>0</td>\n      <td>http://127.0.0.1:8001/cgi-bin/.%2e/%2e%2e/%2e%...</td>\n      <td>0</td>\n    </tr>\n    <tr>\n      <th>5819</th>\n      <td>200</td>\n      <td>46</td>\n      <td>35</td>\n      <td>0</td>\n      <td>0</td>\n      <td>0</td>\n      <td>0</td>\n      <td>0</td>\n      <td>0</td>\n      <td>0</td>\n      <td>...</td>\n      <td>1</td>\n      <td>2</td>\n      <td>6</td>\n      <td>1</td>\n      <td>0</td>\n      <td>0</td>\n      <td>0</td>\n      <td>0</td>\n      <td>http://127.0.0.1:8001/etc/passwd</td>\n      <td>0</td>\n    </tr>\n    <tr>\n      <th>6447</th>\n      <td>200</td>\n      <td>48</td>\n      <td>35</td>\n      <td>0</td>\n      <td>0</td>\n      <td>0</td>\n      <td>0</td>\n      <td>0</td>\n      <td>0</td>\n      <td>0</td>\n      <td>...</td>\n      <td>1</td>\n      <td>2</td>\n      <td>6</td>\n      <td>1</td>\n      <td>0</td>\n      <td>0</td>\n      <td>0</td>\n      <td>0</td>\n      <td>http://127.0.0.1:8001/htpasswd.bak</td>\n      <td>0</td>\n    </tr>\n    <tr>\n      <th>6449</th>\n      <td>200</td>\n      <td>44</td>\n      <td>35</td>\n      <td>0</td>\n      <td>0</td>\n      <td>0</td>\n      <td>0</td>\n      <td>0</td>\n      <td>0</td>\n      <td>0</td>\n      <td>...</td>\n      <td>1</td>\n      <td>2</td>\n      <td>6</td>\n      <td>1</td>\n      <td>0</td>\n      <td>0</td>\n      <td>0</td>\n      <td>0</td>\n      <td>http://127.0.0.1:8001/htpasswd</td>\n      <td>0</td>\n    </tr>\n    <tr>\n      <th>6450</th>\n      <td>200</td>\n      <td>45</td>\n      <td>35</td>\n      <td>0</td>\n      <td>0</td>\n      <td>0</td>\n      <td>0</td>\n      <td>0</td>\n      <td>0</td>\n      <td>0</td>\n      <td>...</td>\n      <td>1</td>\n      <td>2</td>\n      <td>6</td>\n      <td>1</td>\n      <td>0</td>\n      <td>0</td>\n      <td>0</td>\n      <td>0</td>\n      <td>http://127.0.0.1:8001/htpasswd/</td>\n      <td>0</td>\n    </tr>\n    <tr>\n      <th>6451</th>\n      <td>200</td>\n      <td>57</td>\n      <td>35</td>\n      <td>0</td>\n      <td>0</td>\n      <td>0</td>\n      <td>0</td>\n      <td>0</td>\n      <td>0</td>\n      <td>0</td>\n      <td>...</td>\n      <td>1</td>\n      <td>2</td>\n      <td>6</td>\n      <td>1</td>\n      <td>0</td>\n      <td>0</td>\n      <td>0</td>\n      <td>0</td>\n      <td>http://127.0.0.1:8001/htpasswd/htpasswd.bak</td>\n      <td>0</td>\n    </tr>\n    <tr>\n      <th>6863</th>\n      <td>200</td>\n      <td>126</td>\n      <td>35</td>\n      <td>0</td>\n      <td>0</td>\n      <td>0</td>\n      <td>0</td>\n      <td>0</td>\n      <td>0</td>\n      <td>0</td>\n      <td>...</td>\n      <td>1</td>\n      <td>2</td>\n      <td>6</td>\n      <td>1</td>\n      <td>0</td>\n      <td>0</td>\n      <td>0</td>\n      <td>0</td>\n      <td>http://127.0.0.1:8001/jolokia/exec/com.sun.man...</td>\n      <td>0</td>\n    </tr>\n    <tr>\n      <th>6878</th>\n      <td>200</td>\n      <td>119</td>\n      <td>35</td>\n      <td>0</td>\n      <td>0</td>\n      <td>0</td>\n      <td>0</td>\n      <td>0</td>\n      <td>0</td>\n      <td>0</td>\n      <td>...</td>\n      <td>1</td>\n      <td>2</td>\n      <td>6</td>\n      <td>1</td>\n      <td>0</td>\n      <td>0</td>\n      <td>0</td>\n      <td>0</td>\n      <td>http://127.0.0.1:8001/jolokia/exec/com.sun.man...</td>\n      <td>0</td>\n    </tr>\n    <tr>\n      <th>7449</th>\n      <td>200</td>\n      <td>49</td>\n      <td>35</td>\n      <td>0</td>\n      <td>0</td>\n      <td>0</td>\n      <td>0</td>\n      <td>0</td>\n      <td>0</td>\n      <td>0</td>\n      <td>...</td>\n      <td>1</td>\n      <td>2</td>\n      <td>6</td>\n      <td>1</td>\n      <td>0</td>\n      <td>0</td>\n      <td>0</td>\n      <td>0</td>\n      <td>http://127.0.0.1:8001/master.passwd</td>\n      <td>0</td>\n    </tr>\n    <tr>\n      <th>7984</th>\n      <td>200</td>\n      <td>48</td>\n      <td>35</td>\n      <td>0</td>\n      <td>0</td>\n      <td>0</td>\n      <td>0</td>\n      <td>0</td>\n      <td>0</td>\n      <td>0</td>\n      <td>...</td>\n      <td>1</td>\n      <td>2</td>\n      <td>6</td>\n      <td>1</td>\n      <td>0</td>\n      <td>0</td>\n      <td>0</td>\n      <td>0</td>\n      <td>http://127.0.0.1:8001/old.htpasswd</td>\n      <td>0</td>\n    </tr>\n    <tr>\n      <th>8159</th>\n      <td>200</td>\n      <td>42</td>\n      <td>35</td>\n      <td>0</td>\n      <td>0</td>\n      <td>0</td>\n      <td>0</td>\n      <td>0</td>\n      <td>0</td>\n      <td>0</td>\n      <td>...</td>\n      <td>1</td>\n      <td>2</td>\n      <td>6</td>\n      <td>1</td>\n      <td>0</td>\n      <td>0</td>\n      <td>0</td>\n      <td>0</td>\n      <td>http://127.0.0.1:8001/passwd</td>\n      <td>0</td>\n    </tr>\n    <tr>\n      <th>8160</th>\n      <td>200</td>\n      <td>50</td>\n      <td>35</td>\n      <td>0</td>\n      <td>0</td>\n      <td>0</td>\n      <td>0</td>\n      <td>0</td>\n      <td>0</td>\n      <td>0</td>\n      <td>...</td>\n      <td>1</td>\n      <td>2</td>\n      <td>6</td>\n      <td>1</td>\n      <td>0</td>\n      <td>0</td>\n      <td>0</td>\n      <td>0</td>\n      <td>http://127.0.0.1:8001/passwd.adjunct</td>\n      <td>0</td>\n    </tr>\n    <tr>\n      <th>8162</th>\n      <td>200</td>\n      <td>46</td>\n      <td>35</td>\n      <td>0</td>\n      <td>0</td>\n      <td>0</td>\n      <td>0</td>\n      <td>0</td>\n      <td>0</td>\n      <td>0</td>\n      <td>...</td>\n      <td>1</td>\n      <td>2</td>\n      <td>6</td>\n      <td>1</td>\n      <td>0</td>\n      <td>0</td>\n      <td>0</td>\n      <td>0</td>\n      <td>http://127.0.0.1:8001/passwd.bak</td>\n      <td>0</td>\n    </tr>\n    <tr>\n      <th>8163</th>\n      <td>200</td>\n      <td>43</td>\n      <td>35</td>\n      <td>0</td>\n      <td>0</td>\n      <td>0</td>\n      <td>0</td>\n      <td>0</td>\n      <td>0</td>\n      <td>0</td>\n      <td>...</td>\n      <td>1</td>\n      <td>2</td>\n      <td>6</td>\n      <td>1</td>\n      <td>0</td>\n      <td>0</td>\n      <td>0</td>\n      <td>0</td>\n      <td>http://127.0.0.1:8001/passwd/</td>\n      <td>0</td>\n    </tr>\n    <tr>\n      <th>8176</th>\n      <td>200</td>\n      <td>46</td>\n      <td>35</td>\n      <td>0</td>\n      <td>0</td>\n      <td>0</td>\n      <td>0</td>\n      <td>0</td>\n      <td>0</td>\n      <td>0</td>\n      <td>...</td>\n      <td>1</td>\n      <td>2</td>\n      <td>6</td>\n      <td>1</td>\n      <td>0</td>\n      <td>0</td>\n      <td>0</td>\n      <td>0</td>\n      <td>http://127.0.0.1:8001/passwd.txt</td>\n      <td>0</td>\n    </tr>\n    <tr>\n      <th>10210</th>\n      <td>200</td>\n      <td>56</td>\n      <td>35</td>\n      <td>0</td>\n      <td>0</td>\n      <td>0</td>\n      <td>0</td>\n      <td>0</td>\n      <td>0</td>\n      <td>0</td>\n      <td>...</td>\n      <td>1</td>\n      <td>2</td>\n      <td>6</td>\n      <td>1</td>\n      <td>0</td>\n      <td>0</td>\n      <td>0</td>\n      <td>0</td>\n      <td>http://127.0.0.1:8001/text-base/etc/passwd</td>\n      <td>0</td>\n    </tr>\n    <tr>\n      <th>10763</th>\n      <td>200</td>\n      <td>68</td>\n      <td>35</td>\n      <td>0</td>\n      <td>0</td>\n      <td>0</td>\n      <td>0</td>\n      <td>0</td>\n      <td>0</td>\n      <td>0</td>\n      <td>...</td>\n      <td>1</td>\n      <td>2</td>\n      <td>6</td>\n      <td>1</td>\n      <td>0</td>\n      <td>0</td>\n      <td>0</td>\n      <td>0</td>\n      <td>http://127.0.0.1:8001/wavemaker/studioService....</td>\n      <td>0</td>\n    </tr>\n    <tr>\n      <th>11242</th>\n      <td>200</td>\n      <td>55</td>\n      <td>35</td>\n      <td>0</td>\n      <td>0</td>\n      <td>0</td>\n      <td>0</td>\n      <td>0</td>\n      <td>0</td>\n      <td>0</td>\n      <td>...</td>\n      <td>1</td>\n      <td>2</td>\n      <td>6</td>\n      <td>1</td>\n      <td>0</td>\n      <td>0</td>\n      <td>0</td>\n      <td>0</td>\n      <td>http://127.0.0.1:8001/wwwboard/passwd.txt</td>\n      <td>0</td>\n    </tr>\n  </tbody>\n</table>\n<p>36 rows × 21 columns</p>\n</div>"
     },
     "execution_count": 241,
     "metadata": {},
     "output_type": "execute_result"
    }
   ],
   "source": [
    "df[df.url.str.contains('passwd')]"
   ],
   "metadata": {
    "collapsed": false,
    "pycharm": {
     "name": "#%%\n"
    }
   }
  },
  {
   "cell_type": "code",
   "execution_count": 134,
   "outputs": [],
   "source": [
    "import identify404"
   ],
   "metadata": {
    "collapsed": false,
    "pycharm": {
     "name": "#%%\n"
    }
   }
  },
  {
   "cell_type": "code",
   "execution_count": 215,
   "outputs": [
    {
     "name": "stdout",
     "output_type": "stream",
     "text": [
      "current_ratio=0 {'count': 1, 'ratio': 0.0008347245409015025, 'success': False}\n",
      "current_ratio=0.0008347245409015025 {'count': 3, 'ratio': 0.0025041736227045075, 'success': False}\n",
      "current_ratio=0.00333889816360601 {'count': 6, 'ratio': 0.005008347245409015, 'success': False}\n",
      "current_ratio=0.008347245409015025 {'count': 1188, 'ratio': 0.991652754590985, 'success': False}\n"
     ]
    }
   ],
   "source": [
    "rsp_body_pattern_columns = [name for name in df.columns if name.startswith('c:')]\n",
    "fdf = df[rsp_body_pattern_columns].div(df.standard_body_length, axis=0)\n",
    "fdf = pd.concat([fdf,pd.get_dummies(df['status_code'], prefix='code')], axis=1)\n",
    "# fdf['body_length'] = (df.body_length-df.body_length.mean())/df.body_length.std()\n",
    "fdf['standard_distance'] = df.body_length - df.standard_body_length\n",
    "fdf['standard_distance'] = (fdf.standard_distance-fdf.standard_distance.mean())/fdf.standard_distance.std()\n",
    "fdf['standard_body_length'] = (df.standard_body_length-df.standard_body_length.mean())/df.standard_body_length.std()\n",
    "# fdf = (fdf-fdf.mean())/fdf.std()\n",
    "fdf.fillna(0, inplace=True)\n",
    "labels, results, cluster = identify404.identify_404(fdf.to_numpy(), k=4)"
   ],
   "metadata": {
    "collapsed": false,
    "pycharm": {
     "name": "#%%\n"
    }
   }
  },
  {
   "cell_type": "code",
   "execution_count": 216,
   "outputs": [
    {
     "data": {
      "text/plain": "{'bestClusters': 4,\n 'bestScore': 0.9728292729934412,\n 'bestK': 4,\n 'labelDescription': {'0': {'count': 1188,\n   'ratio': 0.991652754590985,\n   'success': False},\n  '2': {'count': 6, 'ratio': 0.005008347245409015, 'success': True},\n  '3': {'count': 1, 'ratio': 0.0008347245409015025, 'success': True},\n  '1': {'count': 3, 'ratio': 0.0025041736227045075, 'success': True}}}"
     },
     "execution_count": 216,
     "metadata": {},
     "output_type": "execute_result"
    }
   ],
   "source": [
    "cluster"
   ],
   "metadata": {
    "collapsed": false,
    "pycharm": {
     "name": "#%%\n"
    }
   }
  },
  {
   "cell_type": "code",
   "execution_count": 217,
   "outputs": [],
   "source": [
    "df['exists'] = df['status_code']==200\n",
    "df['labels'] = labels\n",
    "df['exists2'] = results"
   ],
   "metadata": {
    "collapsed": false,
    "pycharm": {
     "name": "#%%\n"
    }
   }
  },
  {
   "cell_type": "code",
   "execution_count": 218,
   "outputs": [
    {
     "data": {
      "text/plain": "0    1188\n2       6\n1       3\n3       1\nName: labels, dtype: int64"
     },
     "execution_count": 218,
     "metadata": {},
     "output_type": "execute_result"
    }
   ],
   "source": [
    "df.labels.value_counts()"
   ],
   "metadata": {
    "collapsed": false,
    "pycharm": {
     "name": "#%%\n"
    }
   }
  },
  {
   "cell_type": "code",
   "execution_count": 219,
   "outputs": [
    {
     "data": {
      "text/plain": "False    1188\nTrue       10\nName: exists2, dtype: int64"
     },
     "execution_count": 219,
     "metadata": {},
     "output_type": "execute_result"
    }
   ],
   "source": [
    "df.exists2.value_counts()"
   ],
   "metadata": {
    "collapsed": false,
    "pycharm": {
     "name": "#%%\n"
    }
   }
  },
  {
   "cell_type": "code",
   "execution_count": 220,
   "outputs": [
    {
     "data": {
      "text/plain": "     status_code  body_length  standard_body_length  c:<  c:>  c:/  c:</  \\\n56           200         8196                  8115    0    0    0     0   \n86           200        27296                 26890   43   28  685     1   \n734          200        30356                 14600  840  840  571   392   \n768          200        31490                 15449  880  880  594   408   \n769          200        31490                 15449  880  880  594   408   \n805          200        11357                  8629    0    0    8     0   \n918          200        14480                 11715  258  257  356   112   \n919          200         9570                  7422    0    6   12     0   \n920          200        14986                 13485  533  533  308   260   \n921          200        14343                 11594  255  255  356   112   \n\n     c:/>  c:=/  c:.  ...  c:\"  c:,  c:=  c:(  c:  c:;  \\\n56      0     0    5  ...    0    9    4    5   0    3   \n86      0     0  463  ...   78   56   28   45  26   44   \n734    13     0  108  ...  909    3  454   18  18    1   \n768    14     0  113  ...  947    3  474   18  18    6   \n769    14     0  113  ...  947    3  474   18  18    6   \n805     0     0   60  ...   40  141    0   23  23    6   \n918    29     0  324  ...  702   61  340   58  58  114   \n919     0     0   28  ...   18   12   34   25  25    3   \n920    12     0  138  ...  772    7  386    2   2    9   \n921    27     0  324  ...  690   61  331   58  58  108   \n\n                                                   url  exists  labels  \\\n56                    http://127.0.0.1:18000/.DS_Store    True       2   \n86                   http://127.0.0.1:18000/.git/index    True       3   \n734                  http://127.0.0.1:18000/header.php    True       1   \n768                 http://127.0.0.1:18000/install.php    True       1   \n769  http://127.0.0.1:18000/install.php?profile=def...    True       1   \n805                     http://127.0.0.1:18000/LICENSE    True       2   \n918                 http://127.0.0.1:18000/phpmyadmin/    True       2   \n919        http://127.0.0.1:18000/phpmyadmin/ChangeLog    True       2   \n920  http://127.0.0.1:18000/phpmyadmin/doc/html/ind...    True       2   \n921        http://127.0.0.1:18000/phpmyadmin/index.php    True       2   \n\n     exists2  \n56      True  \n86      True  \n734     True  \n768     True  \n769     True  \n805     True  \n918     True  \n919     True  \n920     True  \n921     True  \n\n[10 rows x 31 columns]",
      "text/html": "<div>\n<style scoped>\n    .dataframe tbody tr th:only-of-type {\n        vertical-align: middle;\n    }\n\n    .dataframe tbody tr th {\n        vertical-align: top;\n    }\n\n    .dataframe thead th {\n        text-align: right;\n    }\n</style>\n<table border=\"1\" class=\"dataframe\">\n  <thead>\n    <tr style=\"text-align: right;\">\n      <th></th>\n      <th>status_code</th>\n      <th>body_length</th>\n      <th>standard_body_length</th>\n      <th>c:&lt;</th>\n      <th>c:&gt;</th>\n      <th>c:/</th>\n      <th>c:&lt;/</th>\n      <th>c:/&gt;</th>\n      <th>c:=/</th>\n      <th>c:.</th>\n      <th>...</th>\n      <th>c:\"</th>\n      <th>c:,</th>\n      <th>c:=</th>\n      <th>c:(</th>\n      <th>c:</th>\n      <th>c:;</th>\n      <th>url</th>\n      <th>exists</th>\n      <th>labels</th>\n      <th>exists2</th>\n    </tr>\n  </thead>\n  <tbody>\n    <tr>\n      <th>56</th>\n      <td>200</td>\n      <td>8196</td>\n      <td>8115</td>\n      <td>0</td>\n      <td>0</td>\n      <td>0</td>\n      <td>0</td>\n      <td>0</td>\n      <td>0</td>\n      <td>5</td>\n      <td>...</td>\n      <td>0</td>\n      <td>9</td>\n      <td>4</td>\n      <td>5</td>\n      <td>0</td>\n      <td>3</td>\n      <td>http://127.0.0.1:18000/.DS_Store</td>\n      <td>True</td>\n      <td>2</td>\n      <td>True</td>\n    </tr>\n    <tr>\n      <th>86</th>\n      <td>200</td>\n      <td>27296</td>\n      <td>26890</td>\n      <td>43</td>\n      <td>28</td>\n      <td>685</td>\n      <td>1</td>\n      <td>0</td>\n      <td>0</td>\n      <td>463</td>\n      <td>...</td>\n      <td>78</td>\n      <td>56</td>\n      <td>28</td>\n      <td>45</td>\n      <td>26</td>\n      <td>44</td>\n      <td>http://127.0.0.1:18000/.git/index</td>\n      <td>True</td>\n      <td>3</td>\n      <td>True</td>\n    </tr>\n    <tr>\n      <th>734</th>\n      <td>200</td>\n      <td>30356</td>\n      <td>14600</td>\n      <td>840</td>\n      <td>840</td>\n      <td>571</td>\n      <td>392</td>\n      <td>13</td>\n      <td>0</td>\n      <td>108</td>\n      <td>...</td>\n      <td>909</td>\n      <td>3</td>\n      <td>454</td>\n      <td>18</td>\n      <td>18</td>\n      <td>1</td>\n      <td>http://127.0.0.1:18000/header.php</td>\n      <td>True</td>\n      <td>1</td>\n      <td>True</td>\n    </tr>\n    <tr>\n      <th>768</th>\n      <td>200</td>\n      <td>31490</td>\n      <td>15449</td>\n      <td>880</td>\n      <td>880</td>\n      <td>594</td>\n      <td>408</td>\n      <td>14</td>\n      <td>0</td>\n      <td>113</td>\n      <td>...</td>\n      <td>947</td>\n      <td>3</td>\n      <td>474</td>\n      <td>18</td>\n      <td>18</td>\n      <td>6</td>\n      <td>http://127.0.0.1:18000/install.php</td>\n      <td>True</td>\n      <td>1</td>\n      <td>True</td>\n    </tr>\n    <tr>\n      <th>769</th>\n      <td>200</td>\n      <td>31490</td>\n      <td>15449</td>\n      <td>880</td>\n      <td>880</td>\n      <td>594</td>\n      <td>408</td>\n      <td>14</td>\n      <td>0</td>\n      <td>113</td>\n      <td>...</td>\n      <td>947</td>\n      <td>3</td>\n      <td>474</td>\n      <td>18</td>\n      <td>18</td>\n      <td>6</td>\n      <td>http://127.0.0.1:18000/install.php?profile=def...</td>\n      <td>True</td>\n      <td>1</td>\n      <td>True</td>\n    </tr>\n    <tr>\n      <th>805</th>\n      <td>200</td>\n      <td>11357</td>\n      <td>8629</td>\n      <td>0</td>\n      <td>0</td>\n      <td>8</td>\n      <td>0</td>\n      <td>0</td>\n      <td>0</td>\n      <td>60</td>\n      <td>...</td>\n      <td>40</td>\n      <td>141</td>\n      <td>0</td>\n      <td>23</td>\n      <td>23</td>\n      <td>6</td>\n      <td>http://127.0.0.1:18000/LICENSE</td>\n      <td>True</td>\n      <td>2</td>\n      <td>True</td>\n    </tr>\n    <tr>\n      <th>918</th>\n      <td>200</td>\n      <td>14480</td>\n      <td>11715</td>\n      <td>258</td>\n      <td>257</td>\n      <td>356</td>\n      <td>112</td>\n      <td>29</td>\n      <td>0</td>\n      <td>324</td>\n      <td>...</td>\n      <td>702</td>\n      <td>61</td>\n      <td>340</td>\n      <td>58</td>\n      <td>58</td>\n      <td>114</td>\n      <td>http://127.0.0.1:18000/phpmyadmin/</td>\n      <td>True</td>\n      <td>2</td>\n      <td>True</td>\n    </tr>\n    <tr>\n      <th>919</th>\n      <td>200</td>\n      <td>9570</td>\n      <td>7422</td>\n      <td>0</td>\n      <td>6</td>\n      <td>12</td>\n      <td>0</td>\n      <td>0</td>\n      <td>0</td>\n      <td>28</td>\n      <td>...</td>\n      <td>18</td>\n      <td>12</td>\n      <td>34</td>\n      <td>25</td>\n      <td>25</td>\n      <td>3</td>\n      <td>http://127.0.0.1:18000/phpmyadmin/ChangeLog</td>\n      <td>True</td>\n      <td>2</td>\n      <td>True</td>\n    </tr>\n    <tr>\n      <th>920</th>\n      <td>200</td>\n      <td>14986</td>\n      <td>13485</td>\n      <td>533</td>\n      <td>533</td>\n      <td>308</td>\n      <td>260</td>\n      <td>12</td>\n      <td>0</td>\n      <td>138</td>\n      <td>...</td>\n      <td>772</td>\n      <td>7</td>\n      <td>386</td>\n      <td>2</td>\n      <td>2</td>\n      <td>9</td>\n      <td>http://127.0.0.1:18000/phpmyadmin/doc/html/ind...</td>\n      <td>True</td>\n      <td>2</td>\n      <td>True</td>\n    </tr>\n    <tr>\n      <th>921</th>\n      <td>200</td>\n      <td>14343</td>\n      <td>11594</td>\n      <td>255</td>\n      <td>255</td>\n      <td>356</td>\n      <td>112</td>\n      <td>27</td>\n      <td>0</td>\n      <td>324</td>\n      <td>...</td>\n      <td>690</td>\n      <td>61</td>\n      <td>331</td>\n      <td>58</td>\n      <td>58</td>\n      <td>108</td>\n      <td>http://127.0.0.1:18000/phpmyadmin/index.php</td>\n      <td>True</td>\n      <td>2</td>\n      <td>True</td>\n    </tr>\n  </tbody>\n</table>\n<p>10 rows × 31 columns</p>\n</div>"
     },
     "execution_count": 220,
     "metadata": {},
     "output_type": "execute_result"
    }
   ],
   "source": [
    "df[df['exists2']==True]"
   ],
   "metadata": {
    "collapsed": false,
    "pycharm": {
     "name": "#%%\n"
    }
   }
  },
  {
   "cell_type": "code",
   "execution_count": 221,
   "outputs": [
    {
     "data": {
      "text/plain": "      status_code  body_length  standard_body_length  c:<  c:>  c:/  c:</  \\\n80            200         2872                  2554  226  226  153   105   \n81            200          760                   687   61   61   45    28   \n82            200          277                   240    0    0   11     0   \n83            200           73                    63    0    0    0     0   \n84            200           23                    21    0    0    2     0   \n85            200         2711                  2437  196  196  126    91   \n87            200          947                   850   76   76   54    35   \n88            200          240                   197    0    0    2     0   \n89            200         1131                  1013   91   91   65    42   \n90            200          198                   130    1    1    4     0   \n93            200          198                   130    1    1    4     0   \n96            200          198                   130    1    1    4     0   \n97            200         1138                  1023   91   91   67    42   \n98            200          182                   151    0    0    6     0   \n99            200         1330                  1194  106  106   78    49   \n101           200           41                    32    0    0    0     0   \n104           200           32                    30    0    0    3     0   \n106           200           66                    55    0    0    0     0   \n493           200         1895                  1696  151  151  108    70   \n650           200           52                    43    0    0    4     0   \n707           200         1545                  1351   55   55   49    22   \n758           200         1780                  1596  136  136   87    63   \n922           200         1522                  1282    1    1   15     0   \n972           200         2977                  2842   31   34   34     0   \n976           200         2977                  2842   31   34   34     0   \n1069          200         1137                  1022   91   91   60    42   \n1149          200          929                   835   76   76   53    35   \n\n      c:/>  c:=/  c:.  ...  c:\"  c:,  c:=  c:(  c:  c:;  \\\n80       0     0   21  ...  162    0   88    1   1   17   \n81       0     0   11  ...   30    0   22    1   1    6   \n82       0     0    2  ...    4    0    8    0   0    0   \n83       0     0    1  ...    0    0    0    0   0    1   \n84       0     0    0  ...    0    0    0    0   0    0   \n85       0     0   43  ...  138    0   76    1   1   15   \n87       0     0   12  ...   42    0   28    1   1    7   \n88       0     0    3  ...    0    1    1    1   1    0   \n89       0     0   13  ...   54    0   34    1   1    8   \n90       0     0    3  ...    0    0    0    0   0    0   \n93       0     0    3  ...    0    0    0    0   0    0   \n96       0     0    3  ...    0    0    0    0   0    0   \n97       0     0   13  ...   54    0   34    1   1    8   \n98       0     0    0  ...    0    0    0    0   0    0   \n99       0     0   14  ...   66    0   40    1   1    9   \n101      0     0    0  ...    0    0    0    0   0    0   \n104      0     0    0  ...    0    0    0    0   0    0   \n106      0     0    0  ...    0    0    1    0   0    0   \n493      0     0   14  ...  102    0   58    1   1   12   \n650      0     0    2  ...    2    0    0    0   0    0   \n707      0     0   44  ...   48    0   22    6   6    4   \n758      0     0   30  ...   90    0   52    1   1   11   \n922      1     0   22  ...    0    9   19    0   0    3   \n972      0     0   31  ...   10   16    0   19  19    2   \n976      0     0   31  ...   10   16    0   19  19    2   \n1069     0     0   14  ...   54    0   34    1   1    8   \n1149     0     0    9  ...   42    0   28    1   1    7   \n\n                                                    url  exists  labels  \\\n80                         http://127.0.0.1:18000/.git/    True       0   \n81                http://127.0.0.1:18000/.git/branches/    True       0   \n82                   http://127.0.0.1:18000/.git/config    True       0   \n83              http://127.0.0.1:18000/.git/description    True       0   \n84                     http://127.0.0.1:18000/.git/HEAD    True       0   \n85                   http://127.0.0.1:18000/.git/hooks/    True       0   \n87                    http://127.0.0.1:18000/.git/info/    True       0   \n88             http://127.0.0.1:18000/.git/info/exclude    True       0   \n89                    http://127.0.0.1:18000/.git/logs/    True       0   \n90                http://127.0.0.1:18000/.git/logs/HEAD    True       0   \n93    http://127.0.0.1:18000/.git/logs/refs/heads/ma...    True       0   \n96    http://127.0.0.1:18000/.git/logs/refs/remotes/...    True       0   \n97                 http://127.0.0.1:18000/.git/objects/    True       0   \n98              http://127.0.0.1:18000/.git/packed-refs    True       0   \n99                    http://127.0.0.1:18000/.git/refs/    True       0   \n101       http://127.0.0.1:18000/.git/refs/heads/master    True       0   \n104   http://127.0.0.1:18000/.git/refs/remotes/origi...    True       0   \n106               http://127.0.0.1:18000/.gitattributes    True       0   \n493                      http://127.0.0.1:18000/assets/    True       0   \n650                   http://127.0.0.1:18000/Dockerfile    True       0   \n707                   http://127.0.0.1:18000/footer.php    True       0   \n758                         http://127.0.0.1:18000/inc/    True       0   \n922            http://127.0.0.1:18000/phpmyadmin/README    True       0   \n972                       http://127.0.0.1:18000/README    True       0   \n976                    http://127.0.0.1:18000/README.md    True       0   \n1069                       http://127.0.0.1:18000/test/    True       0   \n1149                       http://127.0.0.1:18000/wiki/    True       0   \n\n      exists2  \n80      False  \n81      False  \n82      False  \n83      False  \n84      False  \n85      False  \n87      False  \n88      False  \n89      False  \n90      False  \n93      False  \n96      False  \n97      False  \n98      False  \n99      False  \n101     False  \n104     False  \n106     False  \n493     False  \n650     False  \n707     False  \n758     False  \n922     False  \n972     False  \n976     False  \n1069    False  \n1149    False  \n\n[27 rows x 31 columns]",
      "text/html": "<div>\n<style scoped>\n    .dataframe tbody tr th:only-of-type {\n        vertical-align: middle;\n    }\n\n    .dataframe tbody tr th {\n        vertical-align: top;\n    }\n\n    .dataframe thead th {\n        text-align: right;\n    }\n</style>\n<table border=\"1\" class=\"dataframe\">\n  <thead>\n    <tr style=\"text-align: right;\">\n      <th></th>\n      <th>status_code</th>\n      <th>body_length</th>\n      <th>standard_body_length</th>\n      <th>c:&lt;</th>\n      <th>c:&gt;</th>\n      <th>c:/</th>\n      <th>c:&lt;/</th>\n      <th>c:/&gt;</th>\n      <th>c:=/</th>\n      <th>c:.</th>\n      <th>...</th>\n      <th>c:\"</th>\n      <th>c:,</th>\n      <th>c:=</th>\n      <th>c:(</th>\n      <th>c:</th>\n      <th>c:;</th>\n      <th>url</th>\n      <th>exists</th>\n      <th>labels</th>\n      <th>exists2</th>\n    </tr>\n  </thead>\n  <tbody>\n    <tr>\n      <th>80</th>\n      <td>200</td>\n      <td>2872</td>\n      <td>2554</td>\n      <td>226</td>\n      <td>226</td>\n      <td>153</td>\n      <td>105</td>\n      <td>0</td>\n      <td>0</td>\n      <td>21</td>\n      <td>...</td>\n      <td>162</td>\n      <td>0</td>\n      <td>88</td>\n      <td>1</td>\n      <td>1</td>\n      <td>17</td>\n      <td>http://127.0.0.1:18000/.git/</td>\n      <td>True</td>\n      <td>0</td>\n      <td>False</td>\n    </tr>\n    <tr>\n      <th>81</th>\n      <td>200</td>\n      <td>760</td>\n      <td>687</td>\n      <td>61</td>\n      <td>61</td>\n      <td>45</td>\n      <td>28</td>\n      <td>0</td>\n      <td>0</td>\n      <td>11</td>\n      <td>...</td>\n      <td>30</td>\n      <td>0</td>\n      <td>22</td>\n      <td>1</td>\n      <td>1</td>\n      <td>6</td>\n      <td>http://127.0.0.1:18000/.git/branches/</td>\n      <td>True</td>\n      <td>0</td>\n      <td>False</td>\n    </tr>\n    <tr>\n      <th>82</th>\n      <td>200</td>\n      <td>277</td>\n      <td>240</td>\n      <td>0</td>\n      <td>0</td>\n      <td>11</td>\n      <td>0</td>\n      <td>0</td>\n      <td>0</td>\n      <td>2</td>\n      <td>...</td>\n      <td>4</td>\n      <td>0</td>\n      <td>8</td>\n      <td>0</td>\n      <td>0</td>\n      <td>0</td>\n      <td>http://127.0.0.1:18000/.git/config</td>\n      <td>True</td>\n      <td>0</td>\n      <td>False</td>\n    </tr>\n    <tr>\n      <th>83</th>\n      <td>200</td>\n      <td>73</td>\n      <td>63</td>\n      <td>0</td>\n      <td>0</td>\n      <td>0</td>\n      <td>0</td>\n      <td>0</td>\n      <td>0</td>\n      <td>1</td>\n      <td>...</td>\n      <td>0</td>\n      <td>0</td>\n      <td>0</td>\n      <td>0</td>\n      <td>0</td>\n      <td>1</td>\n      <td>http://127.0.0.1:18000/.git/description</td>\n      <td>True</td>\n      <td>0</td>\n      <td>False</td>\n    </tr>\n    <tr>\n      <th>84</th>\n      <td>200</td>\n      <td>23</td>\n      <td>21</td>\n      <td>0</td>\n      <td>0</td>\n      <td>2</td>\n      <td>0</td>\n      <td>0</td>\n      <td>0</td>\n      <td>0</td>\n      <td>...</td>\n      <td>0</td>\n      <td>0</td>\n      <td>0</td>\n      <td>0</td>\n      <td>0</td>\n      <td>0</td>\n      <td>http://127.0.0.1:18000/.git/HEAD</td>\n      <td>True</td>\n      <td>0</td>\n      <td>False</td>\n    </tr>\n    <tr>\n      <th>85</th>\n      <td>200</td>\n      <td>2711</td>\n      <td>2437</td>\n      <td>196</td>\n      <td>196</td>\n      <td>126</td>\n      <td>91</td>\n      <td>0</td>\n      <td>0</td>\n      <td>43</td>\n      <td>...</td>\n      <td>138</td>\n      <td>0</td>\n      <td>76</td>\n      <td>1</td>\n      <td>1</td>\n      <td>15</td>\n      <td>http://127.0.0.1:18000/.git/hooks/</td>\n      <td>True</td>\n      <td>0</td>\n      <td>False</td>\n    </tr>\n    <tr>\n      <th>87</th>\n      <td>200</td>\n      <td>947</td>\n      <td>850</td>\n      <td>76</td>\n      <td>76</td>\n      <td>54</td>\n      <td>35</td>\n      <td>0</td>\n      <td>0</td>\n      <td>12</td>\n      <td>...</td>\n      <td>42</td>\n      <td>0</td>\n      <td>28</td>\n      <td>1</td>\n      <td>1</td>\n      <td>7</td>\n      <td>http://127.0.0.1:18000/.git/info/</td>\n      <td>True</td>\n      <td>0</td>\n      <td>False</td>\n    </tr>\n    <tr>\n      <th>88</th>\n      <td>200</td>\n      <td>240</td>\n      <td>197</td>\n      <td>0</td>\n      <td>0</td>\n      <td>2</td>\n      <td>0</td>\n      <td>0</td>\n      <td>0</td>\n      <td>3</td>\n      <td>...</td>\n      <td>0</td>\n      <td>1</td>\n      <td>1</td>\n      <td>1</td>\n      <td>1</td>\n      <td>0</td>\n      <td>http://127.0.0.1:18000/.git/info/exclude</td>\n      <td>True</td>\n      <td>0</td>\n      <td>False</td>\n    </tr>\n    <tr>\n      <th>89</th>\n      <td>200</td>\n      <td>1131</td>\n      <td>1013</td>\n      <td>91</td>\n      <td>91</td>\n      <td>65</td>\n      <td>42</td>\n      <td>0</td>\n      <td>0</td>\n      <td>13</td>\n      <td>...</td>\n      <td>54</td>\n      <td>0</td>\n      <td>34</td>\n      <td>1</td>\n      <td>1</td>\n      <td>8</td>\n      <td>http://127.0.0.1:18000/.git/logs/</td>\n      <td>True</td>\n      <td>0</td>\n      <td>False</td>\n    </tr>\n    <tr>\n      <th>90</th>\n      <td>200</td>\n      <td>198</td>\n      <td>130</td>\n      <td>1</td>\n      <td>1</td>\n      <td>4</td>\n      <td>0</td>\n      <td>0</td>\n      <td>0</td>\n      <td>3</td>\n      <td>...</td>\n      <td>0</td>\n      <td>0</td>\n      <td>0</td>\n      <td>0</td>\n      <td>0</td>\n      <td>0</td>\n      <td>http://127.0.0.1:18000/.git/logs/HEAD</td>\n      <td>True</td>\n      <td>0</td>\n      <td>False</td>\n    </tr>\n    <tr>\n      <th>93</th>\n      <td>200</td>\n      <td>198</td>\n      <td>130</td>\n      <td>1</td>\n      <td>1</td>\n      <td>4</td>\n      <td>0</td>\n      <td>0</td>\n      <td>0</td>\n      <td>3</td>\n      <td>...</td>\n      <td>0</td>\n      <td>0</td>\n      <td>0</td>\n      <td>0</td>\n      <td>0</td>\n      <td>0</td>\n      <td>http://127.0.0.1:18000/.git/logs/refs/heads/ma...</td>\n      <td>True</td>\n      <td>0</td>\n      <td>False</td>\n    </tr>\n    <tr>\n      <th>96</th>\n      <td>200</td>\n      <td>198</td>\n      <td>130</td>\n      <td>1</td>\n      <td>1</td>\n      <td>4</td>\n      <td>0</td>\n      <td>0</td>\n      <td>0</td>\n      <td>3</td>\n      <td>...</td>\n      <td>0</td>\n      <td>0</td>\n      <td>0</td>\n      <td>0</td>\n      <td>0</td>\n      <td>0</td>\n      <td>http://127.0.0.1:18000/.git/logs/refs/remotes/...</td>\n      <td>True</td>\n      <td>0</td>\n      <td>False</td>\n    </tr>\n    <tr>\n      <th>97</th>\n      <td>200</td>\n      <td>1138</td>\n      <td>1023</td>\n      <td>91</td>\n      <td>91</td>\n      <td>67</td>\n      <td>42</td>\n      <td>0</td>\n      <td>0</td>\n      <td>13</td>\n      <td>...</td>\n      <td>54</td>\n      <td>0</td>\n      <td>34</td>\n      <td>1</td>\n      <td>1</td>\n      <td>8</td>\n      <td>http://127.0.0.1:18000/.git/objects/</td>\n      <td>True</td>\n      <td>0</td>\n      <td>False</td>\n    </tr>\n    <tr>\n      <th>98</th>\n      <td>200</td>\n      <td>182</td>\n      <td>151</td>\n      <td>0</td>\n      <td>0</td>\n      <td>6</td>\n      <td>0</td>\n      <td>0</td>\n      <td>0</td>\n      <td>0</td>\n      <td>...</td>\n      <td>0</td>\n      <td>0</td>\n      <td>0</td>\n      <td>0</td>\n      <td>0</td>\n      <td>0</td>\n      <td>http://127.0.0.1:18000/.git/packed-refs</td>\n      <td>True</td>\n      <td>0</td>\n      <td>False</td>\n    </tr>\n    <tr>\n      <th>99</th>\n      <td>200</td>\n      <td>1330</td>\n      <td>1194</td>\n      <td>106</td>\n      <td>106</td>\n      <td>78</td>\n      <td>49</td>\n      <td>0</td>\n      <td>0</td>\n      <td>14</td>\n      <td>...</td>\n      <td>66</td>\n      <td>0</td>\n      <td>40</td>\n      <td>1</td>\n      <td>1</td>\n      <td>9</td>\n      <td>http://127.0.0.1:18000/.git/refs/</td>\n      <td>True</td>\n      <td>0</td>\n      <td>False</td>\n    </tr>\n    <tr>\n      <th>101</th>\n      <td>200</td>\n      <td>41</td>\n      <td>32</td>\n      <td>0</td>\n      <td>0</td>\n      <td>0</td>\n      <td>0</td>\n      <td>0</td>\n      <td>0</td>\n      <td>0</td>\n      <td>...</td>\n      <td>0</td>\n      <td>0</td>\n      <td>0</td>\n      <td>0</td>\n      <td>0</td>\n      <td>0</td>\n      <td>http://127.0.0.1:18000/.git/refs/heads/master</td>\n      <td>True</td>\n      <td>0</td>\n      <td>False</td>\n    </tr>\n    <tr>\n      <th>104</th>\n      <td>200</td>\n      <td>32</td>\n      <td>30</td>\n      <td>0</td>\n      <td>0</td>\n      <td>3</td>\n      <td>0</td>\n      <td>0</td>\n      <td>0</td>\n      <td>0</td>\n      <td>...</td>\n      <td>0</td>\n      <td>0</td>\n      <td>0</td>\n      <td>0</td>\n      <td>0</td>\n      <td>0</td>\n      <td>http://127.0.0.1:18000/.git/refs/remotes/origi...</td>\n      <td>True</td>\n      <td>0</td>\n      <td>False</td>\n    </tr>\n    <tr>\n      <th>106</th>\n      <td>200</td>\n      <td>66</td>\n      <td>55</td>\n      <td>0</td>\n      <td>0</td>\n      <td>0</td>\n      <td>0</td>\n      <td>0</td>\n      <td>0</td>\n      <td>0</td>\n      <td>...</td>\n      <td>0</td>\n      <td>0</td>\n      <td>1</td>\n      <td>0</td>\n      <td>0</td>\n      <td>0</td>\n      <td>http://127.0.0.1:18000/.gitattributes</td>\n      <td>True</td>\n      <td>0</td>\n      <td>False</td>\n    </tr>\n    <tr>\n      <th>493</th>\n      <td>200</td>\n      <td>1895</td>\n      <td>1696</td>\n      <td>151</td>\n      <td>151</td>\n      <td>108</td>\n      <td>70</td>\n      <td>0</td>\n      <td>0</td>\n      <td>14</td>\n      <td>...</td>\n      <td>102</td>\n      <td>0</td>\n      <td>58</td>\n      <td>1</td>\n      <td>1</td>\n      <td>12</td>\n      <td>http://127.0.0.1:18000/assets/</td>\n      <td>True</td>\n      <td>0</td>\n      <td>False</td>\n    </tr>\n    <tr>\n      <th>650</th>\n      <td>200</td>\n      <td>52</td>\n      <td>43</td>\n      <td>0</td>\n      <td>0</td>\n      <td>4</td>\n      <td>0</td>\n      <td>0</td>\n      <td>0</td>\n      <td>2</td>\n      <td>...</td>\n      <td>2</td>\n      <td>0</td>\n      <td>0</td>\n      <td>0</td>\n      <td>0</td>\n      <td>0</td>\n      <td>http://127.0.0.1:18000/Dockerfile</td>\n      <td>True</td>\n      <td>0</td>\n      <td>False</td>\n    </tr>\n    <tr>\n      <th>707</th>\n      <td>200</td>\n      <td>1545</td>\n      <td>1351</td>\n      <td>55</td>\n      <td>55</td>\n      <td>49</td>\n      <td>22</td>\n      <td>0</td>\n      <td>0</td>\n      <td>44</td>\n      <td>...</td>\n      <td>48</td>\n      <td>0</td>\n      <td>22</td>\n      <td>6</td>\n      <td>6</td>\n      <td>4</td>\n      <td>http://127.0.0.1:18000/footer.php</td>\n      <td>True</td>\n      <td>0</td>\n      <td>False</td>\n    </tr>\n    <tr>\n      <th>758</th>\n      <td>200</td>\n      <td>1780</td>\n      <td>1596</td>\n      <td>136</td>\n      <td>136</td>\n      <td>87</td>\n      <td>63</td>\n      <td>0</td>\n      <td>0</td>\n      <td>30</td>\n      <td>...</td>\n      <td>90</td>\n      <td>0</td>\n      <td>52</td>\n      <td>1</td>\n      <td>1</td>\n      <td>11</td>\n      <td>http://127.0.0.1:18000/inc/</td>\n      <td>True</td>\n      <td>0</td>\n      <td>False</td>\n    </tr>\n    <tr>\n      <th>922</th>\n      <td>200</td>\n      <td>1522</td>\n      <td>1282</td>\n      <td>1</td>\n      <td>1</td>\n      <td>15</td>\n      <td>0</td>\n      <td>1</td>\n      <td>0</td>\n      <td>22</td>\n      <td>...</td>\n      <td>0</td>\n      <td>9</td>\n      <td>19</td>\n      <td>0</td>\n      <td>0</td>\n      <td>3</td>\n      <td>http://127.0.0.1:18000/phpmyadmin/README</td>\n      <td>True</td>\n      <td>0</td>\n      <td>False</td>\n    </tr>\n    <tr>\n      <th>972</th>\n      <td>200</td>\n      <td>2977</td>\n      <td>2842</td>\n      <td>31</td>\n      <td>34</td>\n      <td>34</td>\n      <td>0</td>\n      <td>0</td>\n      <td>0</td>\n      <td>31</td>\n      <td>...</td>\n      <td>10</td>\n      <td>16</td>\n      <td>0</td>\n      <td>19</td>\n      <td>19</td>\n      <td>2</td>\n      <td>http://127.0.0.1:18000/README</td>\n      <td>True</td>\n      <td>0</td>\n      <td>False</td>\n    </tr>\n    <tr>\n      <th>976</th>\n      <td>200</td>\n      <td>2977</td>\n      <td>2842</td>\n      <td>31</td>\n      <td>34</td>\n      <td>34</td>\n      <td>0</td>\n      <td>0</td>\n      <td>0</td>\n      <td>31</td>\n      <td>...</td>\n      <td>10</td>\n      <td>16</td>\n      <td>0</td>\n      <td>19</td>\n      <td>19</td>\n      <td>2</td>\n      <td>http://127.0.0.1:18000/README.md</td>\n      <td>True</td>\n      <td>0</td>\n      <td>False</td>\n    </tr>\n    <tr>\n      <th>1069</th>\n      <td>200</td>\n      <td>1137</td>\n      <td>1022</td>\n      <td>91</td>\n      <td>91</td>\n      <td>60</td>\n      <td>42</td>\n      <td>0</td>\n      <td>0</td>\n      <td>14</td>\n      <td>...</td>\n      <td>54</td>\n      <td>0</td>\n      <td>34</td>\n      <td>1</td>\n      <td>1</td>\n      <td>8</td>\n      <td>http://127.0.0.1:18000/test/</td>\n      <td>True</td>\n      <td>0</td>\n      <td>False</td>\n    </tr>\n    <tr>\n      <th>1149</th>\n      <td>200</td>\n      <td>929</td>\n      <td>835</td>\n      <td>76</td>\n      <td>76</td>\n      <td>53</td>\n      <td>35</td>\n      <td>0</td>\n      <td>0</td>\n      <td>9</td>\n      <td>...</td>\n      <td>42</td>\n      <td>0</td>\n      <td>28</td>\n      <td>1</td>\n      <td>1</td>\n      <td>7</td>\n      <td>http://127.0.0.1:18000/wiki/</td>\n      <td>True</td>\n      <td>0</td>\n      <td>False</td>\n    </tr>\n  </tbody>\n</table>\n<p>27 rows × 31 columns</p>\n</div>"
     },
     "execution_count": 221,
     "metadata": {},
     "output_type": "execute_result"
    }
   ],
   "source": [
    "# 资产实际存在，但算法认为不存在\n",
    "df[(df['exists']==True) & (df['exists2']==False)]"
   ],
   "metadata": {
    "collapsed": false,
    "pycharm": {
     "name": "#%%\n"
    }
   }
  },
  {
   "cell_type": "code",
   "execution_count": 222,
   "outputs": [
    {
     "data": {
      "text/plain": "Empty DataFrame\nColumns: [status_code, body_length, standard_body_length, c:<, c:>, c:/, c:</, c:/>, c:=/, c:., c:', c:[, c:], c:|, c:&, c:+, c:-, c:*, c:{, c:}, c::, c:\", c:,, c:=, c:(, c:, c:;, url, exists, labels, exists2]\nIndex: []\n\n[0 rows x 31 columns]",
      "text/html": "<div>\n<style scoped>\n    .dataframe tbody tr th:only-of-type {\n        vertical-align: middle;\n    }\n\n    .dataframe tbody tr th {\n        vertical-align: top;\n    }\n\n    .dataframe thead th {\n        text-align: right;\n    }\n</style>\n<table border=\"1\" class=\"dataframe\">\n  <thead>\n    <tr style=\"text-align: right;\">\n      <th></th>\n      <th>status_code</th>\n      <th>body_length</th>\n      <th>standard_body_length</th>\n      <th>c:&lt;</th>\n      <th>c:&gt;</th>\n      <th>c:/</th>\n      <th>c:&lt;/</th>\n      <th>c:/&gt;</th>\n      <th>c:=/</th>\n      <th>c:.</th>\n      <th>...</th>\n      <th>c:\"</th>\n      <th>c:,</th>\n      <th>c:=</th>\n      <th>c:(</th>\n      <th>c:</th>\n      <th>c:;</th>\n      <th>url</th>\n      <th>exists</th>\n      <th>labels</th>\n      <th>exists2</th>\n    </tr>\n  </thead>\n  <tbody>\n  </tbody>\n</table>\n<p>0 rows × 31 columns</p>\n</div>"
     },
     "execution_count": 222,
     "metadata": {},
     "output_type": "execute_result"
    }
   ],
   "source": [
    "# 资产实际不存在，但算法认为存在\n",
    "df[(df['exists']==False) & (df['exists2']==True)]"
   ],
   "metadata": {
    "collapsed": false,
    "pycharm": {
     "name": "#%%\n"
    }
   }
  },
  {
   "cell_type": "code",
   "execution_count": 223,
   "outputs": [
    {
     "data": {
      "text/plain": "Series([], Name: status_code, dtype: int64)"
     },
     "execution_count": 223,
     "metadata": {},
     "output_type": "execute_result"
    }
   ],
   "source": [
    "df[(df['exists']==False) & (df['exists2']==True)].status_code.value_counts()"
   ],
   "metadata": {
    "collapsed": false,
    "pycharm": {
     "name": "#%%\n"
    }
   }
  },
  {
   "cell_type": "code",
   "execution_count": 224,
   "outputs": [
    {
     "name": "stdout",
     "output_type": "stream",
     "text": [
      "k=2 final: 2 labels: [0 0 0 ... 0 0 0]\n",
      "k=3 final: 3 labels: [0 0 0 ... 0 0 0]\n",
      "k=4 final: 4 labels: [0 0 0 ... 0 0 0]\n",
      "k=5 final: 5 labels: [0 0 0 ... 0 0 0]\n",
      "k=6 final: 6 labels: [0 0 0 ... 0 0 0]\n",
      "k=7 final: 7 labels: [0 0 0 ... 0 0 0]\n"
     ]
    }
   ],
   "source": [
    "sse, score = identify404.identify_404_by_k_means_for_research(fdf.to_numpy())"
   ],
   "metadata": {
    "collapsed": false,
    "pycharm": {
     "name": "#%%\n"
    }
   }
  },
  {
   "cell_type": "code",
   "execution_count": 226,
   "outputs": [
    {
     "data": {
      "text/plain": "[938.4213972259281,\n 349.2293831425217,\n 203.48141811571608,\n 95.04871144974618,\n 60.87881400445942,\n 40.045031752936595]"
     },
     "execution_count": 226,
     "metadata": {},
     "output_type": "execute_result"
    }
   ],
   "source": [
    "sse"
   ],
   "metadata": {
    "collapsed": false,
    "pycharm": {
     "name": "#%%\n"
    }
   }
  },
  {
   "cell_type": "code",
   "execution_count": 204,
   "outputs": [
    {
     "data": {
      "text/plain": "[0.9998797818102486,\n 0.9993917272151942,\n 0.9990194526840773,\n 0.999342059460526,\n 0.9994691712801665,\n 0.9993717309716715]"
     },
     "execution_count": 204,
     "metadata": {},
     "output_type": "execute_result"
    }
   ],
   "source": [
    "score"
   ],
   "metadata": {
    "collapsed": false,
    "pycharm": {
     "name": "#%%\n"
    }
   }
  },
  {
   "cell_type": "code",
   "execution_count": 158,
   "outputs": [],
   "source": [
    "import matplotlib.pyplot as plt"
   ],
   "metadata": {
    "collapsed": false,
    "pycharm": {
     "name": "#%%\n"
    }
   }
  },
  {
   "cell_type": "code",
   "execution_count": 227,
   "outputs": [
    {
     "data": {
      "text/plain": "[<matplotlib.lines.Line2D at 0x13b868ee0>]"
     },
     "execution_count": 227,
     "metadata": {},
     "output_type": "execute_result"
    },
    {
     "data": {
      "text/plain": "<Figure size 432x288 with 1 Axes>",
      "image/png": "[encoded data removed]"
     },
     "metadata": {
      "needs_background": "light"
     },
     "output_type": "display_data"
    }
   ],
   "source": [
    "plt.plot(sse)"
   ],
   "metadata": {
    "collapsed": false,
    "pycharm": {
     "name": "#%%\n"
    }
   }
  },
  {
   "cell_type": "code",
   "execution_count": 228,
   "outputs": [
    {
     "data": {
      "text/plain": "[<matplotlib.lines.Line2D at 0x13b67fe20>]"
     },
     "execution_count": 228,
     "metadata": {},
     "output_type": "execute_result"
    },
    {
     "data": {
      "text/plain": "<Figure size 432x288 with 1 Axes>",
      "image/png": "[encoded data removed]"
     },
     "metadata": {
      "needs_background": "light"
     },
     "output_type": "display_data"
    }
   ],
   "source": [
    "plt.plot(score)"
   ],
   "metadata": {
    "collapsed": false,
    "pycharm": {
     "name": "#%%\n"
    }
   }
  },
  {
   "cell_type": "code",
   "execution_count": 229,
   "outputs": [
    {
     "data": {
      "text/plain": "<matplotlib.collections.PathCollection at 0x133250460>"
     },
     "execution_count": 229,
     "metadata": {},
     "output_type": "execute_result"
    },
    {
     "data": {
      "text/plain": "<Figure size 432x288 with 1 Axes>",
      "image/png": "[encoded data removed]"
     },
     "metadata": {
      "needs_background": "light"
     },
     "output_type": "display_data"
    }
   ],
   "source": [
    "from sklearn.decomposition import PCA\n",
    "data = fdf.to_numpy()\n",
    "pca = PCA(n_components=2)\n",
    "XY = pca.fit(data).transform(data)\n",
    "plt.scatter(XY[:, 0], XY[:, 1])"
   ],
   "metadata": {
    "collapsed": false,
    "pycharm": {
     "name": "#%%\n"
    }
   }
  },
  {
   "cell_type": "code",
   "execution_count": 181,
   "outputs": [],
   "source": [
    "from sklearn.cluster import DBSCAN"
   ],
   "metadata": {
    "collapsed": false,
    "pycharm": {
     "name": "#%%\n"
    }
   }
  },
  {
   "cell_type": "code",
   "execution_count": 230,
   "outputs": [],
   "source": [
    "dbscan = DBSCAN()\n",
    "labels = dbscan.fit_predict(fdf.to_numpy())"
   ],
   "metadata": {
    "collapsed": false,
    "pycharm": {
     "name": "#%%\n"
    }
   }
  },
  {
   "cell_type": "code",
   "execution_count": 231,
   "outputs": [],
   "source": [
    "df['labels2'] = labels"
   ],
   "metadata": {
    "collapsed": false,
    "pycharm": {
     "name": "#%%\n"
    }
   }
  },
  {
   "cell_type": "code",
   "execution_count": 232,
   "outputs": [
    {
     "data": {
      "text/plain": " 0    1106\n 3      41\n 2      23\n-1      14\n 1      14\nName: labels2, dtype: int64"
     },
     "execution_count": 232,
     "metadata": {},
     "output_type": "execute_result"
    }
   ],
   "source": [
    "df['labels2'].value_counts()"
   ],
   "metadata": {
    "collapsed": false,
    "pycharm": {
     "name": "#%%\n"
    }
   }
  },
  {
   "cell_type": "code",
   "execution_count": 233,
   "outputs": [
    {
     "data": {
      "text/plain": "      status_code  body_length  standard_body_length  c:<  c:>  c:/  c:</  \\\n56            200         8196                  8115    0    0    0     0   \n79            301          314                   250   18   18   16     8   \n80            200         2872                  2554  226  226  153   105   \n81            200          760                   687   61   61   45    28   \n82            200          277                   240    0    0   11     0   \n...           ...          ...                   ...  ...  ...  ...   ...   \n1004          403          301                   245   17   17   15     7   \n1068          301          314                   250   18   18   16     8   \n1069          200         1137                  1022   91   91   60    42   \n1148          301          314                   250   18   18   16     8   \n1149          200          929                   835   76   76   53    35   \n\n      c:/>  c:=/  c:.  ...  c:,  c:=  c:(  c:  c:;  \\\n56       0     0    5  ...    9    4    5   0    3   \n79       0     0    7  ...    0    1    1   1    0   \n80       0     0   21  ...    0   88    1   1   17   \n81       0     0   11  ...    0   22    1   1    6   \n82       0     0    2  ...    0    8    0   0    0   \n...    ...   ...  ...  ...  ...  ...  ...  ..  ...   \n1004     1     0    7  ...    0    0    1   1    0   \n1068     0     0    7  ...    0    1    1   1    0   \n1069     0     0   14  ...    0   34    1   1    8   \n1148     0     0    7  ...    0    1    1   1    0   \n1149     0     0    9  ...    0   28    1   1    7   \n\n                                        url  exists  labels  exists2  labels2  \n56         http://127.0.0.1:18000/.DS_Store    True       2     True       -1  \n79              http://127.0.0.1:18000/.git   False       0    False        1  \n80             http://127.0.0.1:18000/.git/    True       0    False       -1  \n81    http://127.0.0.1:18000/.git/branches/    True       0    False        2  \n82       http://127.0.0.1:18000/.git/config    True       0    False        2  \n...                                     ...     ...     ...      ...      ...  \n1004  http://127.0.0.1:18000/server-status/   False       0    False        3  \n1068            http://127.0.0.1:18000/test   False       0    False        1  \n1069           http://127.0.0.1:18000/test/    True       0    False        2  \n1148            http://127.0.0.1:18000/wiki   False       0    False        1  \n1149           http://127.0.0.1:18000/wiki/    True       0    False        2  \n\n[92 rows x 32 columns]",
      "text/html": "<div>\n<style scoped>\n    .dataframe tbody tr th:only-of-type {\n        vertical-align: middle;\n    }\n\n    .dataframe tbody tr th {\n        vertical-align: top;\n    }\n\n    .dataframe thead th {\n        text-align: right;\n    }\n</style>\n<table border=\"1\" class=\"dataframe\">\n  <thead>\n    <tr style=\"text-align: right;\">\n      <th></th>\n      <th>status_code</th>\n      <th>body_length</th>\n      <th>standard_body_length</th>\n      <th>c:&lt;</th>\n      <th>c:&gt;</th>\n      <th>c:/</th>\n      <th>c:&lt;/</th>\n      <th>c:/&gt;</th>\n      <th>c:=/</th>\n      <th>c:.</th>\n      <th>...</th>\n      <th>c:,</th>\n      <th>c:=</th>\n      <th>c:(</th>\n      <th>c:</th>\n      <th>c:;</th>\n      <th>url</th>\n      <th>exists</th>\n      <th>labels</th>\n      <th>exists2</th>\n      <th>labels2</th>\n    </tr>\n  </thead>\n  <tbody>\n    <tr>\n      <th>56</th>\n      <td>200</td>\n      <td>8196</td>\n      <td>8115</td>\n      <td>0</td>\n      <td>0</td>\n      <td>0</td>\n      <td>0</td>\n      <td>0</td>\n      <td>0</td>\n      <td>5</td>\n      <td>...</td>\n      <td>9</td>\n      <td>4</td>\n      <td>5</td>\n      <td>0</td>\n      <td>3</td>\n      <td>http://127.0.0.1:18000/.DS_Store</td>\n      <td>True</td>\n      <td>2</td>\n      <td>True</td>\n      <td>-1</td>\n    </tr>\n    <tr>\n      <th>79</th>\n      <td>301</td>\n      <td>314</td>\n      <td>250</td>\n      <td>18</td>\n      <td>18</td>\n      <td>16</td>\n      <td>8</td>\n      <td>0</td>\n      <td>0</td>\n      <td>7</td>\n      <td>...</td>\n      <td>0</td>\n      <td>1</td>\n      <td>1</td>\n      <td>1</td>\n      <td>0</td>\n      <td>http://127.0.0.1:18000/.git</td>\n      <td>False</td>\n      <td>0</td>\n      <td>False</td>\n      <td>1</td>\n    </tr>\n    <tr>\n      <th>80</th>\n      <td>200</td>\n      <td>2872</td>\n      <td>2554</td>\n      <td>226</td>\n      <td>226</td>\n      <td>153</td>\n      <td>105</td>\n      <td>0</td>\n      <td>0</td>\n      <td>21</td>\n      <td>...</td>\n      <td>0</td>\n      <td>88</td>\n      <td>1</td>\n      <td>1</td>\n      <td>17</td>\n      <td>http://127.0.0.1:18000/.git/</td>\n      <td>True</td>\n      <td>0</td>\n      <td>False</td>\n      <td>-1</td>\n    </tr>\n    <tr>\n      <th>81</th>\n      <td>200</td>\n      <td>760</td>\n      <td>687</td>\n      <td>61</td>\n      <td>61</td>\n      <td>45</td>\n      <td>28</td>\n      <td>0</td>\n      <td>0</td>\n      <td>11</td>\n      <td>...</td>\n      <td>0</td>\n      <td>22</td>\n      <td>1</td>\n      <td>1</td>\n      <td>6</td>\n      <td>http://127.0.0.1:18000/.git/branches/</td>\n      <td>True</td>\n      <td>0</td>\n      <td>False</td>\n      <td>2</td>\n    </tr>\n    <tr>\n      <th>82</th>\n      <td>200</td>\n      <td>277</td>\n      <td>240</td>\n      <td>0</td>\n      <td>0</td>\n      <td>11</td>\n      <td>0</td>\n      <td>0</td>\n      <td>0</td>\n      <td>2</td>\n      <td>...</td>\n      <td>0</td>\n      <td>8</td>\n      <td>0</td>\n      <td>0</td>\n      <td>0</td>\n      <td>http://127.0.0.1:18000/.git/config</td>\n      <td>True</td>\n      <td>0</td>\n      <td>False</td>\n      <td>2</td>\n    </tr>\n    <tr>\n      <th>...</th>\n      <td>...</td>\n      <td>...</td>\n      <td>...</td>\n      <td>...</td>\n      <td>...</td>\n      <td>...</td>\n      <td>...</td>\n      <td>...</td>\n      <td>...</td>\n      <td>...</td>\n      <td>...</td>\n      <td>...</td>\n      <td>...</td>\n      <td>...</td>\n      <td>...</td>\n      <td>...</td>\n      <td>...</td>\n      <td>...</td>\n      <td>...</td>\n      <td>...</td>\n      <td>...</td>\n    </tr>\n    <tr>\n      <th>1004</th>\n      <td>403</td>\n      <td>301</td>\n      <td>245</td>\n      <td>17</td>\n      <td>17</td>\n      <td>15</td>\n      <td>7</td>\n      <td>1</td>\n      <td>0</td>\n      <td>7</td>\n      <td>...</td>\n      <td>0</td>\n      <td>0</td>\n      <td>1</td>\n      <td>1</td>\n      <td>0</td>\n      <td>http://127.0.0.1:18000/server-status/</td>\n      <td>False</td>\n      <td>0</td>\n      <td>False</td>\n      <td>3</td>\n    </tr>\n    <tr>\n      <th>1068</th>\n      <td>301</td>\n      <td>314</td>\n      <td>250</td>\n      <td>18</td>\n      <td>18</td>\n      <td>16</td>\n      <td>8</td>\n      <td>0</td>\n      <td>0</td>\n      <td>7</td>\n      <td>...</td>\n      <td>0</td>\n      <td>1</td>\n      <td>1</td>\n      <td>1</td>\n      <td>0</td>\n      <td>http://127.0.0.1:18000/test</td>\n      <td>False</td>\n      <td>0</td>\n      <td>False</td>\n      <td>1</td>\n    </tr>\n    <tr>\n      <th>1069</th>\n      <td>200</td>\n      <td>1137</td>\n      <td>1022</td>\n      <td>91</td>\n      <td>91</td>\n      <td>60</td>\n      <td>42</td>\n      <td>0</td>\n      <td>0</td>\n      <td>14</td>\n      <td>...</td>\n      <td>0</td>\n      <td>34</td>\n      <td>1</td>\n      <td>1</td>\n      <td>8</td>\n      <td>http://127.0.0.1:18000/test/</td>\n      <td>True</td>\n      <td>0</td>\n      <td>False</td>\n      <td>2</td>\n    </tr>\n    <tr>\n      <th>1148</th>\n      <td>301</td>\n      <td>314</td>\n      <td>250</td>\n      <td>18</td>\n      <td>18</td>\n      <td>16</td>\n      <td>8</td>\n      <td>0</td>\n      <td>0</td>\n      <td>7</td>\n      <td>...</td>\n      <td>0</td>\n      <td>1</td>\n      <td>1</td>\n      <td>1</td>\n      <td>0</td>\n      <td>http://127.0.0.1:18000/wiki</td>\n      <td>False</td>\n      <td>0</td>\n      <td>False</td>\n      <td>1</td>\n    </tr>\n    <tr>\n      <th>1149</th>\n      <td>200</td>\n      <td>929</td>\n      <td>835</td>\n      <td>76</td>\n      <td>76</td>\n      <td>53</td>\n      <td>35</td>\n      <td>0</td>\n      <td>0</td>\n      <td>9</td>\n      <td>...</td>\n      <td>0</td>\n      <td>28</td>\n      <td>1</td>\n      <td>1</td>\n      <td>7</td>\n      <td>http://127.0.0.1:18000/wiki/</td>\n      <td>True</td>\n      <td>0</td>\n      <td>False</td>\n      <td>2</td>\n    </tr>\n  </tbody>\n</table>\n<p>92 rows × 32 columns</p>\n</div>"
     },
     "execution_count": 233,
     "metadata": {},
     "output_type": "execute_result"
    }
   ],
   "source": [
    "df[df['labels2']!=0]"
   ],
   "metadata": {
    "collapsed": false,
    "pycharm": {
     "name": "#%%\n"
    }
   }
  },
  {
   "cell_type": "code",
   "execution_count": 234,
   "outputs": [
    {
     "data": {
      "text/plain": "403    41\n200    37\n301    14\nName: status_code, dtype: int64"
     },
     "execution_count": 234,
     "metadata": {},
     "output_type": "execute_result"
    }
   ],
   "source": [
    "df[df['labels2']!=0].status_code.value_counts()"
   ],
   "metadata": {
    "collapsed": false,
    "pycharm": {
     "name": "#%%\n"
    }
   }
  },
  {
   "cell_type": "code",
   "execution_count": null,
   "outputs": [],
   "source": [],
   "metadata": {
    "collapsed": false,
    "pycharm": {
     "name": "#%%\n"
    }
   }
  }
 ],
 "metadata": {
  "kernelspec": {
   "display_name": "Python 3",
   "language": "python",
   "name": "python3"
  },
  "language_info": {
   "codemirror_mode": {
    "name": "ipython",
    "version": 2
   },
   "file_extension": ".py",
   "mimetype": "text/x-python",
   "name": "python",
   "nbconvert_exporter": "python",
   "pygments_lexer": "ipython2",
   "version": "2.7.6"
  }
 },
 "nbformat": 4,
 "nbformat_minor": 0
}